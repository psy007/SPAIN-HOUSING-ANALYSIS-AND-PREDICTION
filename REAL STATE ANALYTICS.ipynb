{
 "cells": [
  {
   "cell_type": "markdown",
   "metadata": {},
   "source": [
    "##  IMPORTING RAW SCRAPED DATA FROM WEB"
   ]
  },
  {
   "cell_type": "code",
   "execution_count": null,
   "metadata": {},
   "outputs": [],
   "source": [
    "import pandas as pd \n",
    "import numpy as np\n",
    "import seaborn as sns\n",
    "import matplotlib.pyplot as plt\n",
    "from scipy import stats\n",
    "df = pd.read_json('data.json')\n",
    "df.head(4)\n"
   ]
  },
  {
   "cell_type": "code",
   "execution_count": 2,
   "metadata": {},
   "outputs": [
    {
     "data": {
      "text/plain": [
       "AC                       object\n",
       "Bath_room               float64\n",
       "Bed_room                float64\n",
       "Build_Size               object\n",
       "D_from_Airport           object\n",
       "D_from_Marin             object\n",
       "D_from_beach             object\n",
       "D_from_city              object\n",
       "D_from_countryside       object\n",
       "D_golfcourse             object\n",
       "Garage                   object\n",
       "Heating                  object\n",
       "Plot_Size                object\n",
       "Pool                     object\n",
       "WC                      float64\n",
       "property_description     object\n",
       "property_name            object\n",
       "property_price           object\n",
       "dtype: object"
      ]
     },
     "execution_count": 2,
     "metadata": {},
     "output_type": "execute_result"
    }
   ],
   "source": [
    "df.dtypes"
   ]
  },
  {
   "cell_type": "markdown",
   "metadata": {},
   "source": [
    "As we can see our data is not upto the mark. There are some character \"m\" in Build_Size and Plot_size. And also we need to convert some of obejct columns in numeric colums. "
   ]
  },
  {
   "cell_type": "code",
   "execution_count": 3,
   "metadata": {},
   "outputs": [],
   "source": [
    "df['Bath_room'] = pd.to_numeric(df['Bath_room'], errors='coerce', downcast='integer')\n",
    "df['Bed_room'] = pd.to_numeric(df['Bed_room'], errors='coerce', downcast='integer')\n",
    "df['Build_Size'] = df['Build_Size'].astype(str).str[:-2].apply(pd.to_numeric, errors='coerce')\n",
    "df['Plot_Size'] = df['Plot_Size'].astype(str).str[:-2].apply(pd.to_numeric, errors='coerce')\n",
    "df['D_from_Airport'] = df['D_from_Airport'].astype(str).str[:-2].apply(pd.to_numeric, errors='coerce')\n",
    "df['D_from_Marin'] = df['D_from_Marin'].astype(str).str[:-2].apply(pd.to_numeric, errors='coerce')\n",
    "df['D_from_beach'] = df['D_from_beach'].astype(str).str[:-2].apply(pd.to_numeric, errors='coerce')\n",
    "df['D_from_city'] = df['D_from_city'].astype(str).str[:-2].apply(pd.to_numeric, errors='coerce')\n",
    "df['D_from_countryside'] = df['D_from_countryside'].astype(str).str[:-2].apply(pd.to_numeric, errors='coerce')\n",
    "df['D_golfcourse'] = df['D_golfcourse'].astype(str).str[:-2].apply(pd.to_numeric, errors='coerce')\n",
    "\n"
   ]
  },
  {
   "cell_type": "code",
   "execution_count": 4,
   "metadata": {},
   "outputs": [
    {
     "data": {
      "text/plain": [
       "AC                       object\n",
       "Bath_room               float64\n",
       "Bed_room                float64\n",
       "Build_Size              float64\n",
       "D_from_Airport          float64\n",
       "D_from_Marin            float64\n",
       "D_from_beach            float64\n",
       "D_from_city             float64\n",
       "D_from_countryside      float64\n",
       "D_golfcourse            float64\n",
       "Garage                   object\n",
       "Heating                  object\n",
       "Plot_Size               float64\n",
       "Pool                     object\n",
       "WC                      float64\n",
       "property_description     object\n",
       "property_name            object\n",
       "property_price           object\n",
       "dtype: object"
      ]
     },
     "execution_count": 4,
     "metadata": {},
     "output_type": "execute_result"
    }
   ],
   "source": [
    "df.dtypes"
   ]
  },
  {
   "cell_type": "markdown",
   "metadata": {},
   "source": [
    "We have successfully converted data in desired data type so that statistical analysis can be done. Let's look at data using basic descriptive statistics."
   ]
  },
  {
   "cell_type": "code",
   "execution_count": 5,
   "metadata": {},
   "outputs": [
    {
     "data": {
      "text/html": [
       "<div>\n",
       "<style scoped>\n",
       "    .dataframe tbody tr th:only-of-type {\n",
       "        vertical-align: middle;\n",
       "    }\n",
       "\n",
       "    .dataframe tbody tr th {\n",
       "        vertical-align: top;\n",
       "    }\n",
       "\n",
       "    .dataframe thead th {\n",
       "        text-align: right;\n",
       "    }\n",
       "</style>\n",
       "<table border=\"1\" class=\"dataframe\">\n",
       "  <thead>\n",
       "    <tr style=\"text-align: right;\">\n",
       "      <th></th>\n",
       "      <th>Bath_room</th>\n",
       "      <th>Bed_room</th>\n",
       "      <th>Build_Size</th>\n",
       "      <th>D_from_Airport</th>\n",
       "      <th>D_from_Marin</th>\n",
       "      <th>D_from_beach</th>\n",
       "      <th>D_from_city</th>\n",
       "      <th>D_from_countryside</th>\n",
       "      <th>D_golfcourse</th>\n",
       "      <th>Plot_Size</th>\n",
       "      <th>WC</th>\n",
       "    </tr>\n",
       "  </thead>\n",
       "  <tbody>\n",
       "    <tr>\n",
       "      <th>count</th>\n",
       "      <td>92351.000000</td>\n",
       "      <td>92803.000000</td>\n",
       "      <td>9.280400e+04</td>\n",
       "      <td>3852.000000</td>\n",
       "      <td>3495.000000</td>\n",
       "      <td>2994.000000</td>\n",
       "      <td>4295.000000</td>\n",
       "      <td>2587.000000</td>\n",
       "      <td>1913.000000</td>\n",
       "      <td>4.811900e+04</td>\n",
       "      <td>1147.000000</td>\n",
       "    </tr>\n",
       "    <tr>\n",
       "      <th>mean</th>\n",
       "      <td>2.483178</td>\n",
       "      <td>3.349795</td>\n",
       "      <td>5.747750e+02</td>\n",
       "      <td>42.066952</td>\n",
       "      <td>16.148555</td>\n",
       "      <td>14.096226</td>\n",
       "      <td>16.624144</td>\n",
       "      <td>5.485350</td>\n",
       "      <td>14.534658</td>\n",
       "      <td>1.959725e+04</td>\n",
       "      <td>1.714908</td>\n",
       "    </tr>\n",
       "    <tr>\n",
       "      <th>std</th>\n",
       "      <td>1.781848</td>\n",
       "      <td>1.847447</td>\n",
       "      <td>3.237039e+04</td>\n",
       "      <td>31.448661</td>\n",
       "      <td>19.193788</td>\n",
       "      <td>22.988415</td>\n",
       "      <td>286.134376</td>\n",
       "      <td>9.730763</td>\n",
       "      <td>12.577543</td>\n",
       "      <td>2.965679e+06</td>\n",
       "      <td>1.444667</td>\n",
       "    </tr>\n",
       "    <tr>\n",
       "      <th>min</th>\n",
       "      <td>1.000000</td>\n",
       "      <td>1.000000</td>\n",
       "      <td>1.000000e+00</td>\n",
       "      <td>0.000000</td>\n",
       "      <td>0.000000</td>\n",
       "      <td>0.000000</td>\n",
       "      <td>0.000000</td>\n",
       "      <td>0.000000</td>\n",
       "      <td>0.000000</td>\n",
       "      <td>1.000000e+00</td>\n",
       "      <td>1.000000</td>\n",
       "    </tr>\n",
       "    <tr>\n",
       "      <th>25%</th>\n",
       "      <td>2.000000</td>\n",
       "      <td>2.000000</td>\n",
       "      <td>9.500000e+01</td>\n",
       "      <td>18.000000</td>\n",
       "      <td>2.000000</td>\n",
       "      <td>1.000000</td>\n",
       "      <td>0.400000</td>\n",
       "      <td>0.000000</td>\n",
       "      <td>4.000000</td>\n",
       "      <td>2.500000e+02</td>\n",
       "      <td>1.000000</td>\n",
       "    </tr>\n",
       "    <tr>\n",
       "      <th>50%</th>\n",
       "      <td>2.000000</td>\n",
       "      <td>3.000000</td>\n",
       "      <td>1.420000e+02</td>\n",
       "      <td>40.000000</td>\n",
       "      <td>10.000000</td>\n",
       "      <td>6.000000</td>\n",
       "      <td>2.000000</td>\n",
       "      <td>1.000000</td>\n",
       "      <td>10.000000</td>\n",
       "      <td>8.000000e+02</td>\n",
       "      <td>1.000000</td>\n",
       "    </tr>\n",
       "    <tr>\n",
       "      <th>75%</th>\n",
       "      <td>3.000000</td>\n",
       "      <td>4.000000</td>\n",
       "      <td>2.500000e+02</td>\n",
       "      <td>60.550000</td>\n",
       "      <td>25.000000</td>\n",
       "      <td>20.000000</td>\n",
       "      <td>7.000000</td>\n",
       "      <td>5.000000</td>\n",
       "      <td>23.000000</td>\n",
       "      <td>1.937000e+03</td>\n",
       "      <td>2.000000</td>\n",
       "    </tr>\n",
       "    <tr>\n",
       "      <th>max</th>\n",
       "      <td>128.000000</td>\n",
       "      <td>128.000000</td>\n",
       "      <td>9.500000e+06</td>\n",
       "      <td>501.000000</td>\n",
       "      <td>360.000000</td>\n",
       "      <td>800.000000</td>\n",
       "      <td>17000.000000</td>\n",
       "      <td>79.000000</td>\n",
       "      <td>60.000000</td>\n",
       "      <td>6.500000e+08</td>\n",
       "      <td>25.000000</td>\n",
       "    </tr>\n",
       "  </tbody>\n",
       "</table>\n",
       "</div>"
      ],
      "text/plain": [
       "          Bath_room      Bed_room    Build_Size  D_from_Airport  D_from_Marin  \\\n",
       "count  92351.000000  92803.000000  9.280400e+04     3852.000000   3495.000000   \n",
       "mean       2.483178      3.349795  5.747750e+02       42.066952     16.148555   \n",
       "std        1.781848      1.847447  3.237039e+04       31.448661     19.193788   \n",
       "min        1.000000      1.000000  1.000000e+00        0.000000      0.000000   \n",
       "25%        2.000000      2.000000  9.500000e+01       18.000000      2.000000   \n",
       "50%        2.000000      3.000000  1.420000e+02       40.000000     10.000000   \n",
       "75%        3.000000      4.000000  2.500000e+02       60.550000     25.000000   \n",
       "max      128.000000    128.000000  9.500000e+06      501.000000    360.000000   \n",
       "\n",
       "       D_from_beach   D_from_city  D_from_countryside  D_golfcourse  \\\n",
       "count   2994.000000   4295.000000         2587.000000   1913.000000   \n",
       "mean      14.096226     16.624144            5.485350     14.534658   \n",
       "std       22.988415    286.134376            9.730763     12.577543   \n",
       "min        0.000000      0.000000            0.000000      0.000000   \n",
       "25%        1.000000      0.400000            0.000000      4.000000   \n",
       "50%        6.000000      2.000000            1.000000     10.000000   \n",
       "75%       20.000000      7.000000            5.000000     23.000000   \n",
       "max      800.000000  17000.000000           79.000000     60.000000   \n",
       "\n",
       "          Plot_Size           WC  \n",
       "count  4.811900e+04  1147.000000  \n",
       "mean   1.959725e+04     1.714908  \n",
       "std    2.965679e+06     1.444667  \n",
       "min    1.000000e+00     1.000000  \n",
       "25%    2.500000e+02     1.000000  \n",
       "50%    8.000000e+02     1.000000  \n",
       "75%    1.937000e+03     2.000000  \n",
       "max    6.500000e+08    25.000000  "
      ]
     },
     "execution_count": 5,
     "metadata": {},
     "output_type": "execute_result"
    }
   ],
   "source": [
    "df.describe()"
   ]
  },
  {
   "cell_type": "markdown",
   "metadata": {},
   "source": [
    "After looking at median value and maximum value it gives me notion that every coloum have outlier. Let's remove every data point which have outlier in any column. "
   ]
  },
  {
   "cell_type": "code",
   "execution_count": null,
   "metadata": {},
   "outputs": [],
   "source": [
    "df[(np.abs(stats.zscore(df)) < 3).all(axis=1)] \n",
    "# Here i'm using boolian indexing to keep only Those points which have z score between -3 and 3"
   ]
  },
  {
   "cell_type": "code",
   "execution_count": null,
   "metadata": {},
   "outputs": [],
   "source": [
    "\n",
    "sns.set(style=\"whitegrid\")\n",
    "plot_data = df[df['Bath_room'] <= 10]\n",
    "ax = sns.countplot(x=\"Bath_room\", data=plot_data, palette='GnBu_d')"
   ]
  },
  {
   "cell_type": "code",
   "execution_count": null,
   "metadata": {},
   "outputs": [],
   "source": []
  },
  {
   "cell_type": "code",
   "execution_count": null,
   "metadata": {},
   "outputs": [],
   "source": []
  },
  {
   "cell_type": "code",
   "execution_count": null,
   "metadata": {},
   "outputs": [],
   "source": []
  },
  {
   "cell_type": "code",
   "execution_count": null,
   "metadata": {},
   "outputs": [],
   "source": []
  },
  {
   "cell_type": "code",
   "execution_count": null,
   "metadata": {},
   "outputs": [],
   "source": []
  },
  {
   "cell_type": "code",
   "execution_count": null,
   "metadata": {},
   "outputs": [],
   "source": []
  }
 ],
 "metadata": {
  "kernelspec": {
   "display_name": "Python 3",
   "language": "python",
   "name": "python3"
  },
  "language_info": {
   "codemirror_mode": {
    "name": "ipython",
    "version": 3
   },
   "file_extension": ".py",
   "mimetype": "text/x-python",
   "name": "python",
   "nbconvert_exporter": "python",
   "pygments_lexer": "ipython3",
   "version": "3.6.5"
  }
 },
 "nbformat": 4,
 "nbformat_minor": 2
}
